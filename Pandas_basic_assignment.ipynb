{
 "cells": [
  {
   "cell_type": "markdown",
   "id": "049cb316-44bf-4e5a-9385-209a268e4386",
   "metadata": {},
   "source": [
    "Q1. Create a Pandas Series that contains the following data: 4, 8, 15, 16, 23, and 42. Then, print the series."
   ]
  },
  {
   "cell_type": "code",
   "execution_count": 1,
   "id": "5abbfb7d-6a1d-4de1-a5e7-17c761c6ff3a",
   "metadata": {},
   "outputs": [],
   "source": [
    "import pandas as pd"
   ]
  },
  {
   "cell_type": "code",
   "execution_count": 3,
   "id": "482cd775-7846-4d0d-a9b4-c65bb31784ec",
   "metadata": {},
   "outputs": [],
   "source": [
    "S=pd.Series([ 4, 8, 15, 16, 23,42])    #creating series"
   ]
  },
  {
   "cell_type": "code",
   "execution_count": 6,
   "id": "6030b419-b31c-47a6-8958-6cbdb6cabc04",
   "metadata": {},
   "outputs": [
    {
     "data": {
      "text/plain": [
       "pandas.core.series.Series"
      ]
     },
     "execution_count": 6,
     "metadata": {},
     "output_type": "execute_result"
    }
   ],
   "source": [
    "type(S)      #confirming it is series by cheking type"
   ]
  },
  {
   "cell_type": "code",
   "execution_count": 7,
   "id": "c24b87b5-913c-42db-93c0-a9649915ce1b",
   "metadata": {},
   "outputs": [
    {
     "data": {
      "text/plain": [
       "0     4\n",
       "1     8\n",
       "2    15\n",
       "3    16\n",
       "4    23\n",
       "5    42\n",
       "dtype: int64"
      ]
     },
     "execution_count": 7,
     "metadata": {},
     "output_type": "execute_result"
    }
   ],
   "source": [
    "#printing the series\n",
    "S"
   ]
  },
  {
   "cell_type": "markdown",
   "id": "393b3738-10ed-4ec0-a26f-bcd8d748c57b",
   "metadata": {},
   "source": [
    "Q2. Create a variable of list type containing 10 elements in it, and apply pandas.Series function on the\n",
    "variable print it."
   ]
  },
  {
   "cell_type": "code",
   "execution_count": 9,
   "id": "b1094a54-4981-47a1-a417-293df40e0972",
   "metadata": {},
   "outputs": [
    {
     "name": "stdout",
     "output_type": "stream",
     "text": [
      "0        1\n",
      "1        2\n",
      "2        3\n",
      "3        4\n",
      "4        5\n",
      "5        6\n",
      "6        7\n",
      "7      rht\n",
      "8    rohit\n",
      "9    rahul\n",
      "dtype: object\n"
     ]
    }
   ],
   "source": [
    "'''Ans(2)'''\n",
    "\n",
    "my_list = [1, 2, 3, 4, 5, 6, 7, 'rht','rohit','rahul']\n",
    "\n",
    "# Create a pandas Series from the list\n",
    "my_series = pd.Series(my_list)\n",
    "\n",
    "# Print the Series\n",
    "print(my_series)\n"
   ]
  },
  {
   "cell_type": "code",
   "execution_count": null,
   "id": "6b5ffb04-d1f3-4c56-93ce-3803218059ec",
   "metadata": {},
   "outputs": [],
   "source": [
    "Q3. Create a Pandas DataFrame that contains the following data:\n",
    "    Name       Age     Gender\n",
    "    Alice      25      Female\n",
    "    Bob        30      Male\n",
    "    Claire     27      Female\n",
    "    \n",
    "Then, print the DataFrame."
   ]
  },
  {
   "cell_type": "code",
   "execution_count": 10,
   "id": "938a33eb-eba5-4022-9c01-bf276b1d903f",
   "metadata": {},
   "outputs": [],
   "source": [
    "'''Ans(3)'''\n",
    "df=pd.DataFrame({'Name':['Alice','Bob','Claire'],\n",
    "                 'Age':[25,30,27],\n",
    "                 'Gender':['Female','Male','Female']\n",
    "                })\n"
   ]
  },
  {
   "cell_type": "code",
   "execution_count": 11,
   "id": "45e898eb-2e27-4f23-b155-92c0ff887b78",
   "metadata": {},
   "outputs": [
    {
     "data": {
      "text/html": [
       "<div>\n",
       "<style scoped>\n",
       "    .dataframe tbody tr th:only-of-type {\n",
       "        vertical-align: middle;\n",
       "    }\n",
       "\n",
       "    .dataframe tbody tr th {\n",
       "        vertical-align: top;\n",
       "    }\n",
       "\n",
       "    .dataframe thead th {\n",
       "        text-align: right;\n",
       "    }\n",
       "</style>\n",
       "<table border=\"1\" class=\"dataframe\">\n",
       "  <thead>\n",
       "    <tr style=\"text-align: right;\">\n",
       "      <th></th>\n",
       "      <th>Name</th>\n",
       "      <th>Age</th>\n",
       "      <th>Gender</th>\n",
       "    </tr>\n",
       "  </thead>\n",
       "  <tbody>\n",
       "    <tr>\n",
       "      <th>0</th>\n",
       "      <td>Alice</td>\n",
       "      <td>25</td>\n",
       "      <td>Female</td>\n",
       "    </tr>\n",
       "    <tr>\n",
       "      <th>1</th>\n",
       "      <td>Bob</td>\n",
       "      <td>30</td>\n",
       "      <td>Male</td>\n",
       "    </tr>\n",
       "    <tr>\n",
       "      <th>2</th>\n",
       "      <td>Claire</td>\n",
       "      <td>27</td>\n",
       "      <td>Female</td>\n",
       "    </tr>\n",
       "  </tbody>\n",
       "</table>\n",
       "</div>"
      ],
      "text/plain": [
       "     Name  Age  Gender\n",
       "0   Alice   25  Female\n",
       "1     Bob   30    Male\n",
       "2  Claire   27  Female"
      ]
     },
     "execution_count": 11,
     "metadata": {},
     "output_type": "execute_result"
    }
   ],
   "source": [
    "df   #printing the  output"
   ]
  },
  {
   "cell_type": "markdown",
   "id": "84f5a532-8a3c-47ea-8534-84567bec2b93",
   "metadata": {},
   "source": [
    "Q4. What is ‘DataFrame’ in pandas and how is it different from pandas.series? Explain with an example."
   ]
  },
  {
   "cell_type": "markdown",
   "id": "59b53251-c831-4026-8fb3-3bf8979bbfaa",
   "metadata": {},
   "source": [
    "Ans(4):\n",
    "In pandas, both DataFrame and Series are fundamental data structures that are used for handling and analyzing data. They are part of the pandas library, which provides powerful tools for data manipulation and analysis in Python. \n",
    "\n",
    "1. Series:\n",
    "A Series is a one-dimensional labeled array that can hold data of any type (integers, strings, floats, etc.). It's essentially a column of data with associated labels, known as the index. The index helps in identifying and accessing the elements in the Series. Each element in a Series corresponds to a single value.\n",
    "\n",
    "2. DataFrame:\n",
    "A DataFrame is a two-dimensional labeled data structure with columns that can hold different types of data. It's like a table in a relational database or an Excel spreadsheet. A DataFrame consists of multiple Series, where each Series represents a column. The columns in a DataFrame can be of different data types, and each column is identified by its column name. Additionally, DataFrames also have an index, similar to Series.\n",
    "\n",
    "The main differences between Series and DataFrame are:\n",
    "\n",
    "Dimensionality: A Series is a one-dimensional data structure, while a DataFrame is a two-dimensional data structure.\n",
    "\n",
    "Columns: A Series contains a single column of data, while a DataFrame can have multiple columns.\n",
    "\n",
    "Data structure: A Series is essentially a single column with an index, while a DataFrame is a collection of multiple columns (Series) with both row and column indexes.\n",
    "\n",
    "In summary, while both Series and DataFrames are fundamental to pandas, DataFrames provide a more structured and versatile way of organizing and analyzing data, especially when dealing with multi-dimensional datasets."
   ]
  },
  {
   "cell_type": "code",
   "execution_count": 12,
   "id": "cb78f33e-aadc-4093-8ef1-f6a71ceea96a",
   "metadata": {},
   "outputs": [
    {
     "data": {
      "text/plain": [
       "0      rohit\n",
       "1    sandeep\n",
       "2      rohan\n",
       "3     Hemant\n",
       "dtype: object"
      ]
     },
     "execution_count": 12,
     "metadata": {},
     "output_type": "execute_result"
    }
   ],
   "source": [
    "'''Example for Series'''\n",
    "s=pd.Series(['rohit','sandeep','rohan','Hemant'])\n",
    "s"
   ]
  },
  {
   "cell_type": "code",
   "execution_count": 13,
   "id": "9781a89a-7c62-4a81-a126-6f0d8e88c2f5",
   "metadata": {},
   "outputs": [
    {
     "name": "stdout",
     "output_type": "stream",
     "text": [
      "      Name  Age\n",
      "0    Alice   25\n",
      "1      Bob   30\n",
      "2  Charlie   22\n"
     ]
    }
   ],
   "source": [
    "'''Example for DaraFrame'''\n",
    "data = {'Name': ['Alice', 'Bob', 'Charlie'],\n",
    "        'Age': [25, 30, 22]}\n",
    "\n",
    "df1 = pd.DataFrame(data)\n",
    "\n",
    "print(df1)"
   ]
  },
  {
   "cell_type": "markdown",
   "id": "c0a309fc-f9f1-44a5-86cb-70dae3f202f6",
   "metadata": {},
   "source": [
    "Q5. What are some common functions you can use to manipulate data in a Pandas DataFrame? Can\n",
    "you give an example of when you might use one of these functions?"
   ]
  },
  {
   "cell_type": "markdown",
   "id": "7604a8a4-49fa-4eff-82b1-2e9f513117c7",
   "metadata": {},
   "source": [
    "Ans-Pandas offers a wide range of functions to manipulate data in a DataFrame. Here are some common functions you can use:"
   ]
  },
  {
   "cell_type": "code",
   "execution_count": 2,
   "id": "9d57e2f3-2948-4671-873f-0ccc6e32c202",
   "metadata": {},
   "outputs": [],
   "source": [
    "'''1.Filtering Data:\n",
    "\n",
    "df[df['column_name'] > value]:   Filters rows based on a condition.\n",
    "df.query('condition'):       Filters rows using a query expression.\n",
    "\n",
    "Example:'''\n",
    "\n",
    "import pandas as pd\n",
    "\n",
    "data = {'Name': ['Alice', 'Bob', 'Charlie'],\n",
    "        'Age': [25, 30, 22]}\n",
    "df = pd.DataFrame(data)\n",
    "\n",
    "result = df[df['Age'] > 25]"
   ]
  },
  {
   "cell_type": "code",
   "execution_count": 3,
   "id": "dd8226cf-0305-495d-b41b-8c0d73b59cd2",
   "metadata": {},
   "outputs": [
    {
     "data": {
      "text/html": [
       "<div>\n",
       "<style scoped>\n",
       "    .dataframe tbody tr th:only-of-type {\n",
       "        vertical-align: middle;\n",
       "    }\n",
       "\n",
       "    .dataframe tbody tr th {\n",
       "        vertical-align: top;\n",
       "    }\n",
       "\n",
       "    .dataframe thead th {\n",
       "        text-align: right;\n",
       "    }\n",
       "</style>\n",
       "<table border=\"1\" class=\"dataframe\">\n",
       "  <thead>\n",
       "    <tr style=\"text-align: right;\">\n",
       "      <th></th>\n",
       "      <th>Name</th>\n",
       "      <th>Age</th>\n",
       "    </tr>\n",
       "  </thead>\n",
       "  <tbody>\n",
       "    <tr>\n",
       "      <th>1</th>\n",
       "      <td>Bob</td>\n",
       "      <td>30</td>\n",
       "    </tr>\n",
       "  </tbody>\n",
       "</table>\n",
       "</div>"
      ],
      "text/plain": [
       "  Name  Age\n",
       "1  Bob   30"
      ]
     },
     "execution_count": 3,
     "metadata": {},
     "output_type": "execute_result"
    }
   ],
   "source": [
    "result"
   ]
  },
  {
   "cell_type": "code",
   "execution_count": 4,
   "id": "f25a7072-5c7e-4337-884b-cc16e29f2e2e",
   "metadata": {},
   "outputs": [],
   "source": [
    "'''2.Selecting Columns:\n",
    "\n",
    "df['column_name']: Selects a single column as a Series.\n",
    "df[['col1', 'col2']]: Selects multiple columns as a DataFrame.\n",
    "\n",
    "Example:'''\n",
    "\n",
    "names = df['Name']\n",
    "subset = df[['Name', 'Age']]"
   ]
  },
  {
   "cell_type": "code",
   "execution_count": 5,
   "id": "fd3a4b14-3918-4c7d-8990-a6f28f62cd00",
   "metadata": {},
   "outputs": [],
   "source": [
    "'''3.Sorting Data:\n",
    "\n",
    "df.sort_values('column_name'): Sorts the DataFrame by a specified column.\n",
    "df.sort_values(['col1', 'col2']): Sorts by multiple columns.\n",
    "\n",
    "Example:'''\n",
    "\n",
    "sorted_df = df.sort_values('Age')"
   ]
  },
  {
   "cell_type": "code",
   "execution_count": 6,
   "id": "990d74d3-9994-4f6b-98e6-65e4e0a091b3",
   "metadata": {},
   "outputs": [
    {
     "data": {
      "text/html": [
       "<div>\n",
       "<style scoped>\n",
       "    .dataframe tbody tr th:only-of-type {\n",
       "        vertical-align: middle;\n",
       "    }\n",
       "\n",
       "    .dataframe tbody tr th {\n",
       "        vertical-align: top;\n",
       "    }\n",
       "\n",
       "    .dataframe thead th {\n",
       "        text-align: right;\n",
       "    }\n",
       "</style>\n",
       "<table border=\"1\" class=\"dataframe\">\n",
       "  <thead>\n",
       "    <tr style=\"text-align: right;\">\n",
       "      <th></th>\n",
       "      <th>Name</th>\n",
       "      <th>Age</th>\n",
       "    </tr>\n",
       "  </thead>\n",
       "  <tbody>\n",
       "    <tr>\n",
       "      <th>2</th>\n",
       "      <td>Charlie</td>\n",
       "      <td>22</td>\n",
       "    </tr>\n",
       "    <tr>\n",
       "      <th>0</th>\n",
       "      <td>Alice</td>\n",
       "      <td>25</td>\n",
       "    </tr>\n",
       "    <tr>\n",
       "      <th>1</th>\n",
       "      <td>Bob</td>\n",
       "      <td>30</td>\n",
       "    </tr>\n",
       "  </tbody>\n",
       "</table>\n",
       "</div>"
      ],
      "text/plain": [
       "      Name  Age\n",
       "2  Charlie   22\n",
       "0    Alice   25\n",
       "1      Bob   30"
      ]
     },
     "execution_count": 6,
     "metadata": {},
     "output_type": "execute_result"
    }
   ],
   "source": [
    "sorted_df"
   ]
  },
  {
   "cell_type": "code",
   "execution_count": 13,
   "id": "3bf8e7bd-0689-493c-a976-ce34e803b7a1",
   "metadata": {},
   "outputs": [],
   "source": [
    "'''4.Applying Functions:\n",
    "\n",
    "df['new_column'] = df['column'].apply(function): Applies a function to a column and creates a new column.\n",
    "\n",
    "Example:'''\n",
    "\n",
    "df['Age_Group'] = df['Age'].apply(lambda age: 'Young' if age < 30 else 'Old')"
   ]
  },
  {
   "cell_type": "code",
   "execution_count": 14,
   "id": "d58d67d0-76f8-4e49-bb75-bf7563d91ed2",
   "metadata": {},
   "outputs": [
    {
     "data": {
      "text/html": [
       "<div>\n",
       "<style scoped>\n",
       "    .dataframe tbody tr th:only-of-type {\n",
       "        vertical-align: middle;\n",
       "    }\n",
       "\n",
       "    .dataframe tbody tr th {\n",
       "        vertical-align: top;\n",
       "    }\n",
       "\n",
       "    .dataframe thead th {\n",
       "        text-align: right;\n",
       "    }\n",
       "</style>\n",
       "<table border=\"1\" class=\"dataframe\">\n",
       "  <thead>\n",
       "    <tr style=\"text-align: right;\">\n",
       "      <th></th>\n",
       "      <th>Name</th>\n",
       "      <th>Age</th>\n",
       "      <th>Age_Group</th>\n",
       "    </tr>\n",
       "  </thead>\n",
       "  <tbody>\n",
       "    <tr>\n",
       "      <th>0</th>\n",
       "      <td>Alice</td>\n",
       "      <td>25</td>\n",
       "      <td>Young</td>\n",
       "    </tr>\n",
       "    <tr>\n",
       "      <th>1</th>\n",
       "      <td>Bob</td>\n",
       "      <td>30</td>\n",
       "      <td>Old</td>\n",
       "    </tr>\n",
       "    <tr>\n",
       "      <th>2</th>\n",
       "      <td>Charlie</td>\n",
       "      <td>22</td>\n",
       "      <td>Young</td>\n",
       "    </tr>\n",
       "  </tbody>\n",
       "</table>\n",
       "</div>"
      ],
      "text/plain": [
       "      Name  Age Age_Group\n",
       "0    Alice   25     Young\n",
       "1      Bob   30       Old\n",
       "2  Charlie   22     Young"
      ]
     },
     "execution_count": 14,
     "metadata": {},
     "output_type": "execute_result"
    }
   ],
   "source": [
    "df"
   ]
  },
  {
   "cell_type": "code",
   "execution_count": 15,
   "id": "42704bdc-451c-4632-9d88-76f9615e8a31",
   "metadata": {},
   "outputs": [],
   "source": [
    "'''5.Missing Data Handling:\n",
    "\n",
    "df.dropna(): Removes rows with missing values.\n",
    "df.fillna(value): Fills missing values with a specified value.\n",
    "\n",
    "Example:'''\n",
    "\n",
    "df_cleaned = df.dropna()"
   ]
  },
  {
   "cell_type": "markdown",
   "id": "7a077120-a61c-417e-892e-05b5370e2351",
   "metadata": {},
   "source": [
    "Q6. Which of the following is mutable in nature Series, DataFrame, Panel?\n",
    "Ans-Among the above, the DataFrame is mutable in nature.\n",
    "\n",
    "In Python, mutability refers to whether an object's state can be modified after it is created. A mutable object can be changed, while an immutable object cannot. Here's the breakdown for the options you mentioned:\n",
    "\n",
    "Series: A Series in pandas is mutable. we can modify its values, add new values, or remove existing values.\n",
    "\n",
    "DataFrame: A DataFrame in pandas is mutable. You can add or remove columns, change values, and perform various operations that modify its structure and content.\n",
    "\n",
    "Panel: The Panel was a three-dimensional data structure in older versions of pandas (before version 0.25). However, as of version 0.25, the Panel has been deprecated and is no longer a primary data structure in pandas. Instead, we're encouraged to use MultiIndex DataFrames for similar use cases. Since it's no longer a primary data structure, discussing its mutability is not applicable in the context of modern pandas usage.\n",
    "\n",
    "In summary, both Series and DataFrames in pandas are mutable, meaning we can modify their contents and structure after they are created"
   ]
  },
  {
   "cell_type": "markdown",
   "id": "3a844483-74bd-47df-a099-9e7fdd012235",
   "metadata": {},
   "source": [
    "Q7. Create a DataFrame using multiple Series. Explain with an example."
   ]
  },
  {
   "cell_type": "code",
   "execution_count": 26,
   "id": "538673aa-d5a4-4659-8284-ed86dec1f310",
   "metadata": {},
   "outputs": [],
   "source": [
    "'''Example for Question(7)'''\n",
    "Name=pd.Series(['rohit','rohan','rht','mohan','sohan','sandeep'])\n",
    "Age=pd.Series([20,21,23,25,26,24])\n",
    "Scores=pd.Series([91,89,84,81,80,90])\n",
    "\n",
    "df2=pd.DataFrame({'Name':Name,'Age':Age,'Scores':Scores})"
   ]
  },
  {
   "cell_type": "code",
   "execution_count": 27,
   "id": "4e673bf1-3a79-40c4-bdb9-46e6a2020257",
   "metadata": {},
   "outputs": [
    {
     "data": {
      "text/html": [
       "<div>\n",
       "<style scoped>\n",
       "    .dataframe tbody tr th:only-of-type {\n",
       "        vertical-align: middle;\n",
       "    }\n",
       "\n",
       "    .dataframe tbody tr th {\n",
       "        vertical-align: top;\n",
       "    }\n",
       "\n",
       "    .dataframe thead th {\n",
       "        text-align: right;\n",
       "    }\n",
       "</style>\n",
       "<table border=\"1\" class=\"dataframe\">\n",
       "  <thead>\n",
       "    <tr style=\"text-align: right;\">\n",
       "      <th></th>\n",
       "      <th>Name</th>\n",
       "      <th>Age</th>\n",
       "      <th>Scores</th>\n",
       "    </tr>\n",
       "  </thead>\n",
       "  <tbody>\n",
       "    <tr>\n",
       "      <th>0</th>\n",
       "      <td>rohit</td>\n",
       "      <td>20</td>\n",
       "      <td>91</td>\n",
       "    </tr>\n",
       "    <tr>\n",
       "      <th>1</th>\n",
       "      <td>rohan</td>\n",
       "      <td>21</td>\n",
       "      <td>89</td>\n",
       "    </tr>\n",
       "    <tr>\n",
       "      <th>2</th>\n",
       "      <td>rht</td>\n",
       "      <td>23</td>\n",
       "      <td>84</td>\n",
       "    </tr>\n",
       "    <tr>\n",
       "      <th>3</th>\n",
       "      <td>mohan</td>\n",
       "      <td>25</td>\n",
       "      <td>81</td>\n",
       "    </tr>\n",
       "    <tr>\n",
       "      <th>4</th>\n",
       "      <td>sohan</td>\n",
       "      <td>26</td>\n",
       "      <td>80</td>\n",
       "    </tr>\n",
       "    <tr>\n",
       "      <th>5</th>\n",
       "      <td>sandeep</td>\n",
       "      <td>24</td>\n",
       "      <td>90</td>\n",
       "    </tr>\n",
       "  </tbody>\n",
       "</table>\n",
       "</div>"
      ],
      "text/plain": [
       "      Name  Age  Scores\n",
       "0    rohit   20      91\n",
       "1    rohan   21      89\n",
       "2      rht   23      84\n",
       "3    mohan   25      81\n",
       "4    sohan   26      80\n",
       "5  sandeep   24      90"
      ]
     },
     "execution_count": 27,
     "metadata": {},
     "output_type": "execute_result"
    }
   ],
   "source": [
    "df2"
   ]
  },
  {
   "cell_type": "code",
   "execution_count": null,
   "id": "42197e21-3f3f-477c-92cc-5c3e49df7399",
   "metadata": {},
   "outputs": [],
   "source": []
  }
 ],
 "metadata": {
  "kernelspec": {
   "display_name": "Python 3 (ipykernel)",
   "language": "python",
   "name": "python3"
  },
  "language_info": {
   "codemirror_mode": {
    "name": "ipython",
    "version": 3
   },
   "file_extension": ".py",
   "mimetype": "text/x-python",
   "name": "python",
   "nbconvert_exporter": "python",
   "pygments_lexer": "ipython3",
   "version": "3.10.8"
  }
 },
 "nbformat": 4,
 "nbformat_minor": 5
}
